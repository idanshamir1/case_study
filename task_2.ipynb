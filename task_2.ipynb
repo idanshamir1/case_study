{
 "cells": [
  {
   "cell_type": "code",
   "execution_count": 175,
   "metadata": {},
   "outputs": [],
   "source": [
    "import pandas as pd\n",
    "import numpy as np\n",
    "import matplotlib.pyplot as plt\n",
    "import sklearn as sk\n",
    "import seaborn as sb\n",
    "from datetime import datetime, timedelta\n",
    "\n"
   ]
  },
  {
   "cell_type": "code",
   "execution_count": 176,
   "metadata": {},
   "outputs": [
    {
     "data": {
      "text/html": [
       "<div>\n",
       "<style scoped>\n",
       "    .dataframe tbody tr th:only-of-type {\n",
       "        vertical-align: middle;\n",
       "    }\n",
       "\n",
       "    .dataframe tbody tr th {\n",
       "        vertical-align: top;\n",
       "    }\n",
       "\n",
       "    .dataframe thead th {\n",
       "        text-align: right;\n",
       "    }\n",
       "</style>\n",
       "<table border=\"1\" class=\"dataframe\">\n",
       "  <thead>\n",
       "    <tr style=\"text-align: right;\">\n",
       "      <th></th>\n",
       "      <th>company_id</th>\n",
       "      <th>date</th>\n",
       "      <th>intros</th>\n",
       "      <th>invites</th>\n",
       "      <th>hires</th>\n",
       "      <th>csm_mails</th>\n",
       "      <th>csm</th>\n",
       "    </tr>\n",
       "    <tr>\n",
       "      <th>id</th>\n",
       "      <th></th>\n",
       "      <th></th>\n",
       "      <th></th>\n",
       "      <th></th>\n",
       "      <th></th>\n",
       "      <th></th>\n",
       "      <th></th>\n",
       "    </tr>\n",
       "  </thead>\n",
       "  <tbody>\n",
       "    <tr>\n",
       "      <th>1</th>\n",
       "      <td>1</td>\n",
       "      <td>2016-01-01</td>\n",
       "      <td>10</td>\n",
       "      <td>0</td>\n",
       "      <td>0</td>\n",
       "      <td>0</td>\n",
       "      <td>Rice, Ethan</td>\n",
       "    </tr>\n",
       "    <tr>\n",
       "      <th>2</th>\n",
       "      <td>1</td>\n",
       "      <td>2016-01-03</td>\n",
       "      <td>4</td>\n",
       "      <td>2</td>\n",
       "      <td>0</td>\n",
       "      <td>0</td>\n",
       "      <td>Rice, Ethan</td>\n",
       "    </tr>\n",
       "    <tr>\n",
       "      <th>3</th>\n",
       "      <td>1</td>\n",
       "      <td>2016-01-07</td>\n",
       "      <td>10</td>\n",
       "      <td>0</td>\n",
       "      <td>0</td>\n",
       "      <td>2</td>\n",
       "      <td>Rice, Ethan</td>\n",
       "    </tr>\n",
       "    <tr>\n",
       "      <th>4</th>\n",
       "      <td>1</td>\n",
       "      <td>2016-01-11</td>\n",
       "      <td>6</td>\n",
       "      <td>1</td>\n",
       "      <td>1</td>\n",
       "      <td>0</td>\n",
       "      <td>Rice, Ethan</td>\n",
       "    </tr>\n",
       "    <tr>\n",
       "      <th>5</th>\n",
       "      <td>1</td>\n",
       "      <td>2016-01-14</td>\n",
       "      <td>6</td>\n",
       "      <td>0</td>\n",
       "      <td>0</td>\n",
       "      <td>0</td>\n",
       "      <td>Rice, Ethan</td>\n",
       "    </tr>\n",
       "  </tbody>\n",
       "</table>\n",
       "</div>"
      ],
      "text/plain": [
       "    company_id        date  intros  invites  hires  csm_mails          csm\n",
       "id                                                                        \n",
       "1            1  2016-01-01      10        0      0          0  Rice, Ethan\n",
       "2            1  2016-01-03       4        2      0          0  Rice, Ethan\n",
       "3            1  2016-01-07      10        0      0          2  Rice, Ethan\n",
       "4            1  2016-01-11       6        1      1          0  Rice, Ethan\n",
       "5            1  2016-01-14       6        0      0          0  Rice, Ethan"
      ]
     },
     "execution_count": 176,
     "metadata": {},
     "output_type": "execute_result"
    }
   ],
   "source": [
    "csm_df = pd.read_csv('/Users/idanshamir/Downloads/Data_Analyst_Company_Activity.csv',index_col='id')\n",
    "csm_df.head()"
   ]
  },
  {
   "cell_type": "code",
   "execution_count": 177,
   "metadata": {},
   "outputs": [
    {
     "name": "stdout",
     "output_type": "stream",
     "text": [
      "observation number: 14514\n"
     ]
    }
   ],
   "source": [
    "print 'observation number:', len(csm_df)"
   ]
  },
  {
   "cell_type": "code",
   "execution_count": 178,
   "metadata": {},
   "outputs": [
    {
     "data": {
      "text/plain": [
       "company_id     int64\n",
       "date          object\n",
       "intros         int64\n",
       "invites        int64\n",
       "hires          int64\n",
       "csm_mails      int64\n",
       "csm           object\n",
       "dtype: object"
      ]
     },
     "execution_count": 178,
     "metadata": {},
     "output_type": "execute_result"
    }
   ],
   "source": [
    "#check feature types\n",
    "csm_df.dtypes"
   ]
  },
  {
   "cell_type": "code",
   "execution_count": 179,
   "metadata": {},
   "outputs": [],
   "source": [
    "#change date column to date type\n",
    "csm_df['date'] = csm_df['date'].apply(lambda x:datetime.strptime(x, '%Y-%m-%d'))"
   ]
  },
  {
   "cell_type": "code",
   "execution_count": 180,
   "metadata": {},
   "outputs": [],
   "source": [
    "#group by manager to see how they differ in hires and emails sent\n",
    "manager_gb = csm_df.groupby(['csm']).sum()\n",
    "manager_gb['days_worked'] = csm_df.groupby(['csm']).date.nunique()\n",
    "manager_gb.drop('company_id',axis=1,inplace=True)\n",
    "columns = ['intros','invites','hires','csm_mails']\n",
    "\n",
    "# divide every manager with number of working days\n",
    "for col in columns:\n",
    "    manager_gb[col] = manager_gb[col] / manager_gb['days_worked']"
   ]
  },
  {
   "cell_type": "code",
   "execution_count": 196,
   "metadata": {},
   "outputs": [
    {
     "data": {
      "image/png": "[encoded data removed]",
      "text/plain": [
       "<Figure size 1152x288 with 2 Axes>"
      ]
     },
     "metadata": {
      "needs_background": "light"
     },
     "output_type": "display_data"
    }
   ],
   "source": [
    "plt.figure(figsize=(16,4))\n",
    "for i,col in enumerate(['hires','csm_mails'],1):\n",
    "    temp = manager_gb[col]\n",
    "    temp = temp.sort_values()\n",
    "    plt.subplot(1,2,i)\n",
    "    plt.title(str(col)+' per manager')\n",
    "    temp.plot.bar()\n",
    "    plt.ylabel(str(col)+'/working_days')\n",
    "    plt.xticks(rotation=70)\n",
    "plt.show()"
   ]
  },
  {
   "cell_type": "markdown",
   "metadata": {},
   "source": [
    "we can see Kappert that Taylor has sent the most emails & hired the most people\n",
    "\n",
    "on the other hand, Lucero Kathrine wasn't responsible for any hires"
   ]
  },
  {
   "cell_type": "markdown",
   "metadata": {},
   "source": [
    "assuming all companies are the same number of days with us, i will check the differences between\n",
    "\n",
    "0- comapnies with no hires\n",
    "\n",
    "1- companies with hires"
   ]
  },
  {
   "cell_type": "code",
   "execution_count": 203,
   "metadata": {},
   "outputs": [],
   "source": [
    "# i will creat a grouped by table by company and with it will be able to cluster different companies\n",
    "company_gb = csm_df.groupby(['company_id']).sum()\n",
    "\n",
    "conditions=[ (company_gb['hires']==0),\\\n",
    "            ((company_gb['hires']>0))]\n",
    "choices=[0,1]\n",
    "company_gb['hired?'] = np.select(conditions,choices)\n",
    "hired_vs_didnt = company_gb.groupby('hired?').mean()\n",
    "\n",
    "# further - cluster according to intros and check whether there's any relation between number of intros to emails sent, and to invitations sent\n"
   ]
  },
  {
   "cell_type": "code",
   "execution_count": 204,
   "metadata": {},
   "outputs": [
    {
     "data": {
      "text/html": [
       "<div>\n",
       "<style scoped>\n",
       "    .dataframe tbody tr th:only-of-type {\n",
       "        vertical-align: middle;\n",
       "    }\n",
       "\n",
       "    .dataframe tbody tr th {\n",
       "        vertical-align: top;\n",
       "    }\n",
       "\n",
       "    .dataframe thead th {\n",
       "        text-align: right;\n",
       "    }\n",
       "</style>\n",
       "<table border=\"1\" class=\"dataframe\">\n",
       "  <thead>\n",
       "    <tr style=\"text-align: right;\">\n",
       "      <th></th>\n",
       "      <th>intros</th>\n",
       "      <th>invites</th>\n",
       "      <th>hires</th>\n",
       "      <th>csm_mails</th>\n",
       "    </tr>\n",
       "    <tr>\n",
       "      <th>hired?</th>\n",
       "      <th></th>\n",
       "      <th></th>\n",
       "      <th></th>\n",
       "      <th></th>\n",
       "    </tr>\n",
       "  </thead>\n",
       "  <tbody>\n",
       "    <tr>\n",
       "      <th>0</th>\n",
       "      <td>594.916667</td>\n",
       "      <td>61.083333</td>\n",
       "      <td>0.00</td>\n",
       "      <td>29.666667</td>\n",
       "    </tr>\n",
       "    <tr>\n",
       "      <th>1</th>\n",
       "      <td>1382.979167</td>\n",
       "      <td>161.791667</td>\n",
       "      <td>3.75</td>\n",
       "      <td>68.854167</td>\n",
       "    </tr>\n",
       "  </tbody>\n",
       "</table>\n",
       "</div>"
      ],
      "text/plain": [
       "             intros     invites  hires  csm_mails\n",
       "hired?                                           \n",
       "0        594.916667   61.083333   0.00  29.666667\n",
       "1       1382.979167  161.791667   3.75  68.854167"
      ]
     },
     "execution_count": 204,
     "metadata": {},
     "output_type": "execute_result"
    }
   ],
   "source": [
    "hired_vs_didnt"
   ]
  },
  {
   "cell_type": "markdown",
   "metadata": {},
   "source": [
    "it's clear that companies that never hired, received less emails, and therefore have lesser intros, invites and hires."
   ]
  },
  {
   "cell_type": "code",
   "execution_count": 217,
   "metadata": {},
   "outputs": [
    {
     "name": "stdout",
     "output_type": "stream",
     "text": [
      "correlation between hires and emails sent: 0.6649974581039515\n",
      "amount of emails sent is somewhat correlated with hires\n",
      "it is yet not significant to say that emails add value but we do see a linear relation\n",
      "we also saw it in the hired? table,\n",
      "where companies which had any hires receive ~40 mails more than those which didnt hire\n"
     ]
    }
   ],
   "source": [
    "print 'correlation between hires and emails sent:', company_gb.corrwith(company_gb['csm_mails'])['hires']\n",
    "print 'amount of emails sent is somewhat correlated with hires\\nit is yet not significant to say that emails add value but we do see a linear relation'\n",
    "print 'we also saw it in the hired? table,\\nwhere companies which had any hires receive ~40 mails more than those which didnt hire'\n"
   ]
  }
 ],
 "metadata": {
  "kernelspec": {
   "display_name": "Python 2",
   "language": "python",
   "name": "python2"
  },
  "language_info": {
   "codemirror_mode": {
    "name": "ipython",
    "version": 2
   },
   "file_extension": ".py",
   "mimetype": "text/x-python",
   "name": "python",
   "nbconvert_exporter": "python",
   "pygments_lexer": "ipython2",
   "version": "2.7.15"
  }
 },
 "nbformat": 4,
 "nbformat_minor": 2
}
