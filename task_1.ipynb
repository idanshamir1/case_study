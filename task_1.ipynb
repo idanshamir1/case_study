{
 "cells": [
  {
   "cell_type": "code",
   "execution_count": 1,
   "metadata": {},
   "outputs": [],
   "source": [
    "import pandas as pd\n",
    "import numpy as np\n",
    "import matplotlib.pyplot as plt\n",
    "import sklearn as sk\n",
    "import seaborn as sb\n",
    "from datetime import datetime, timedelta\n"
   ]
  },
  {
   "cell_type": "code",
   "execution_count": 18,
   "metadata": {},
   "outputs": [],
   "source": [
    "df_list = []\n",
    "df_list.append(pd.read_csv('/Users/idanshamir/Downloads/search_results_s1.csv',index_col=0))\n",
    "df_list.append(pd.read_csv('/Users/idanshamir/Downloads/search_results_s2.csv',index_col=0))\n",
    "df_list.append(pd.read_csv('/Users/idanshamir/Downloads/search_results_s3.csv',index_col=0))\n",
    "df_list.append(pd.read_csv('/Users/idanshamir/Downloads/search_results_s4.csv',index_col=0))\n",
    "df_list.append(pd.read_csv('/Users/idanshamir/Downloads/search_results_s5.csv',index_col=0))\n",
    "a"
   ]
  },
  {
   "cell_type": "code",
   "execution_count": 25,
   "metadata": {},
   "outputs": [],
   "source": [
    "ratio_0 = []\n",
    "for i in range(5):\n",
    "    ratio_0.  append (len(df_list[i][df_list[i]['rank']==0])/float(len(df_list[i])))"
   ]
  },
  {
   "cell_type": "code",
   "execution_count": 33,
   "metadata": {},
   "outputs": [
    {
     "data": {
      "image/png": "[encoded data removed]",
      "text/plain": [
       "<Figure size 432x288 with 1 Axes>"
      ]
     },
     "metadata": {
      "needs_background": "light"
     },
     "output_type": "display_data"
    }
   ],
   "source": [
    "plt.title('0 ranked results rates')\n",
    "sb.barplot(range(1,6),ratio_0)\n",
    "plt.ylabel('rate')\n",
    "plt.xlabel('algorithm number')\n",
    "plt.show()"
   ]
  },
  {
   "cell_type": "code",
   "execution_count": 42,
   "metadata": {},
   "outputs": [],
   "source": [
    "rank_avg = []\n",
    "for i in range(5):\n",
    "    rank_avg. append ((df_list[i][(df_list[i]['rank']!=0)])['rank'].mean())"
   ]
  },
  {
   "cell_type": "code",
   "execution_count": 44,
   "metadata": {},
   "outputs": [
    {
     "data": {
      "image/png": "[encoded data removed]",
      "text/plain": [
       "<Figure size 432x288 with 1 Axes>"
      ]
     },
     "metadata": {
      "needs_background": "light"
     },
     "output_type": "display_data"
    }
   ],
   "source": [
    "plt.title('average results rank')\n",
    "sb.barplot(range(1,6),rank_avg)\n",
    "plt.ylabel('average')\n",
    "plt.xlabel('algorithm number')\n",
    "plt.show()"
   ]
  },
  {
   "cell_type": "markdown",
   "metadata": {},
   "source": [
    "because it is important for Jobba to have first low ranked results, but also low rate of 0 ranked results\n",
    "I would suggest picking algorithm number 3.\n",
    "\n",
    "we should be careful because in search_results_s3 there are only 200 observations- this might not be enough to determine that this algorithm is better than another. "
   ]
  }
 ],
 "metadata": {
  "kernelspec": {
   "display_name": "Python 2",
   "language": "python",
   "name": "python2"
  },
  "language_info": {
   "codemirror_mode": {
    "name": "ipython",
    "version": 2
   },
   "file_extension": ".py",
   "mimetype": "text/x-python",
   "name": "python",
   "nbconvert_exporter": "python",
   "pygments_lexer": "ipython2",
   "version": "2.7.15"
  }
 },
 "nbformat": 4,
 "nbformat_minor": 2
}
